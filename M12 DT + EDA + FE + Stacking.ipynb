{
 "cells": [
  {
   "cell_type": "code",
   "execution_count": 1,
   "metadata": {},
   "outputs": [
    {
     "name": "stdout",
     "output_type": "stream",
     "text": [
      "<class 'pandas.core.frame.DataFrame'>\n",
      "RangeIndex: 891 entries, 0 to 890\n",
      "Data columns (total 12 columns):\n",
      "PassengerId    891 non-null int64\n",
      "Survived       891 non-null int64\n",
      "Pclass         891 non-null int64\n",
      "Name           891 non-null object\n",
      "Sex            891 non-null object\n",
      "Age            714 non-null float64\n",
      "SibSp          891 non-null int64\n",
      "Parch          891 non-null int64\n",
      "Ticket         891 non-null object\n",
      "Fare           891 non-null float64\n",
      "Cabin          204 non-null object\n",
      "Embarked       889 non-null object\n",
      "dtypes: float64(2), int64(5), object(5)\n",
      "memory usage: 83.6+ KB\n",
      "<class 'pandas.core.frame.DataFrame'>\n",
      "RangeIndex: 418 entries, 0 to 417\n",
      "Data columns (total 11 columns):\n",
      "PassengerId    418 non-null int64\n",
      "Pclass         418 non-null int64\n",
      "Name           418 non-null object\n",
      "Sex            418 non-null object\n",
      "Age            332 non-null float64\n",
      "SibSp          418 non-null int64\n",
      "Parch          418 non-null int64\n",
      "Ticket         418 non-null object\n",
      "Fare           417 non-null float64\n",
      "Cabin          91 non-null object\n",
      "Embarked       418 non-null object\n",
      "dtypes: float64(2), int64(4), object(5)\n",
      "memory usage: 36.0+ KB\n"
     ]
    },
    {
     "name": "stderr",
     "output_type": "stream",
     "text": [
      "/anaconda3/lib/python3.7/site-packages/sklearn/utils/deprecation.py:58: DeprecationWarning: Class Imputer is deprecated; Imputer was deprecated in version 0.20 and will be removed in 0.22. Import impute.SimpleImputer from sklearn instead.\n",
      "  warnings.warn(msg, category=DeprecationWarning)\n",
      "/anaconda3/lib/python3.7/site-packages/ipykernel_launcher.py:13: FutureWarning: Sorting because non-concatenation axis is not aligned. A future version\n",
      "of pandas will change to not sort by default.\n",
      "\n",
      "To accept the future behavior, pass 'sort=False'.\n",
      "\n",
      "To retain the current behavior and silence the warning, pass 'sort=True'.\n",
      "\n",
      "  del sys.path[0]\n"
     ]
    }
   ],
   "source": [
    "import pandas as pd\n",
    "from sklearn import tree, preprocessing, model_selection, ensemble, feature_selection\n",
    "import os\n",
    "from mlxtend import classifier as mlxClassifier\n",
    "titanic_train = pd.read_csv('/Users/bharath/Downloads/titanic/train.csv')\n",
    "titanic_train.info()\n",
    "titanic_test = pd.read_csv('/Users/bharath/Downloads/titanic/test.csv')\n",
    "titanic_test.info()\n",
    "\n",
    "mean_imputer = preprocessing.Imputer()\n",
    "mean_imputer.fit(titanic_train[['Age','Fare']])\n",
    "titanic_test['Survived'] = None\n",
    "titanic = pd.concat([titanic_train, titanic_test])\n",
    "\n",
    "titanic[['Age','Fare']] = mean_imputer.transform(titanic[['Age','Fare']])\n"
   ]
  },
  {
   "cell_type": "code",
   "execution_count": null,
   "metadata": {},
   "outputs": [],
   "source": []
  },
  {
   "cell_type": "code",
   "execution_count": 2,
   "metadata": {},
   "outputs": [],
   "source": [
    "def split_title(name):\n",
    "    return name.split(',')[1].split('.')[0].strip()\n",
    "\n",
    "titanic['Title'] = titanic['Name'].map(split_title)\n"
   ]
  },
  {
   "cell_type": "code",
   "execution_count": 3,
   "metadata": {},
   "outputs": [],
   "source": [
    "    def Age_group(age):\n",
    "        if (age >=0 and age <=10):\n",
    "            return 'Child'\n",
    "        elif (age >10 and age <= 25):\n",
    "              return 'Young'\n",
    "        elif (age >25 and age <= 50):\n",
    "              return 'Middle'\n",
    "        else:\n",
    "            return 'Old'    "
   ]
  },
  {
   "cell_type": "code",
   "execution_count": 4,
   "metadata": {},
   "outputs": [],
   "source": [
    "titanic['Age1'] = titanic['Age'].map(Age_group)"
   ]
  },
  {
   "cell_type": "code",
   "execution_count": 5,
   "metadata": {},
   "outputs": [],
   "source": [
    "titanic['FamilySize'] = titanic['Parch'] + titanic['SibSp'] + 1"
   ]
  },
  {
   "cell_type": "code",
   "execution_count": 6,
   "metadata": {},
   "outputs": [],
   "source": [
    "def family_size(size):\n",
    "    if (size ==1):\n",
    "        return 'Single'\n",
    "    elif (size >1 and size <= 3):\n",
    "          return 'Small'\n",
    "    elif (size >3 and size <=6):\n",
    "          return 'Medium'\n",
    "    else:\n",
    "        return 'large'"
   ]
  },
  {
   "cell_type": "code",
   "execution_count": 7,
   "metadata": {},
   "outputs": [],
   "source": [
    "    titanic['Family_type'] = titanic['FamilySize'].map(family_size)"
   ]
  },
  {
   "cell_type": "code",
   "execution_count": 8,
   "metadata": {},
   "outputs": [
    {
     "name": "stdout",
     "output_type": "stream",
     "text": [
      "<class 'pandas.core.frame.DataFrame'>\n",
      "Int64Index: 1309 entries, 0 to 417\n",
      "Data columns (total 16 columns):\n",
      "Age            1309 non-null float64\n",
      "Cabin          295 non-null object\n",
      "Embarked       1307 non-null object\n",
      "Fare           1309 non-null float64\n",
      "Name           1309 non-null object\n",
      "Parch          1309 non-null int64\n",
      "PassengerId    1309 non-null int64\n",
      "Pclass         1309 non-null int64\n",
      "Sex            1309 non-null object\n",
      "SibSp          1309 non-null int64\n",
      "Survived       891 non-null object\n",
      "Ticket         1309 non-null object\n",
      "Title          1309 non-null object\n",
      "Age1           1309 non-null object\n",
      "FamilySize     1309 non-null int64\n",
      "Family_type    1309 non-null object\n",
      "dtypes: float64(2), int64(5), object(9)\n",
      "memory usage: 173.9+ KB\n"
     ]
    }
   ],
   "source": [
    "titanic.info()"
   ]
  },
  {
   "cell_type": "code",
   "execution_count": 9,
   "metadata": {},
   "outputs": [],
   "source": [
    "titanic1 = pd.get_dummies(titanic, columns=['Pclass','Sex','Embarked','Age1','Family_type','Title'])"
   ]
  },
  {
   "cell_type": "code",
   "execution_count": 10,
   "metadata": {},
   "outputs": [
    {
     "name": "stdout",
     "output_type": "stream",
     "text": [
      "<class 'pandas.core.frame.DataFrame'>\n",
      "Int64Index: 1309 entries, 0 to 417\n",
      "Data columns (total 44 columns):\n",
      "Age                   1309 non-null float64\n",
      "Cabin                 295 non-null object\n",
      "Fare                  1309 non-null float64\n",
      "Name                  1309 non-null object\n",
      "Parch                 1309 non-null int64\n",
      "PassengerId           1309 non-null int64\n",
      "SibSp                 1309 non-null int64\n",
      "Survived              891 non-null object\n",
      "Ticket                1309 non-null object\n",
      "FamilySize            1309 non-null int64\n",
      "Pclass_1              1309 non-null uint8\n",
      "Pclass_2              1309 non-null uint8\n",
      "Pclass_3              1309 non-null uint8\n",
      "Sex_female            1309 non-null uint8\n",
      "Sex_male              1309 non-null uint8\n",
      "Embarked_C            1309 non-null uint8\n",
      "Embarked_Q            1309 non-null uint8\n",
      "Embarked_S            1309 non-null uint8\n",
      "Age1_Child            1309 non-null uint8\n",
      "Age1_Middle           1309 non-null uint8\n",
      "Age1_Old              1309 non-null uint8\n",
      "Age1_Young            1309 non-null uint8\n",
      "Family_type_Medium    1309 non-null uint8\n",
      "Family_type_Single    1309 non-null uint8\n",
      "Family_type_Small     1309 non-null uint8\n",
      "Family_type_large     1309 non-null uint8\n",
      "Title_Capt            1309 non-null uint8\n",
      "Title_Col             1309 non-null uint8\n",
      "Title_Don             1309 non-null uint8\n",
      "Title_Dona            1309 non-null uint8\n",
      "Title_Dr              1309 non-null uint8\n",
      "Title_Jonkheer        1309 non-null uint8\n",
      "Title_Lady            1309 non-null uint8\n",
      "Title_Major           1309 non-null uint8\n",
      "Title_Master          1309 non-null uint8\n",
      "Title_Miss            1309 non-null uint8\n",
      "Title_Mlle            1309 non-null uint8\n",
      "Title_Mme             1309 non-null uint8\n",
      "Title_Mr              1309 non-null uint8\n",
      "Title_Mrs             1309 non-null uint8\n",
      "Title_Ms              1309 non-null uint8\n",
      "Title_Rev             1309 non-null uint8\n",
      "Title_Sir             1309 non-null uint8\n",
      "Title_the Countess    1309 non-null uint8\n",
      "dtypes: float64(2), int64(4), object(4), uint8(34)\n",
      "memory usage: 156.0+ KB\n"
     ]
    }
   ],
   "source": [
    "titanic1.info()"
   ]
  },
  {
   "cell_type": "code",
   "execution_count": 11,
   "metadata": {},
   "outputs": [
    {
     "data": {
      "text/plain": [
       "RandomForestClassifier(bootstrap=True, class_weight=None, criterion='gini',\n",
       "            max_depth=None, max_features='auto', max_leaf_nodes=None,\n",
       "            min_impurity_decrease=0.0, min_impurity_split=None,\n",
       "            min_samples_leaf=1, min_samples_split=2,\n",
       "            min_weight_fraction_leaf=0.0, n_estimators=5, n_jobs=None,\n",
       "            oob_score=False, random_state=None, verbose=0,\n",
       "            warm_start=False)"
      ]
     },
     "execution_count": 11,
     "metadata": {},
     "output_type": "execute_result"
    }
   ],
   "source": [
    "titanic2 = titanic1.drop(['Age','Cabin','Name','PassengerId','Ticket','Survived'],1) \n",
    "# why 'Parch','SibSp' are not dropped ?\n",
    "x_train = titanic2[0:titanic_train.shape[0]]\n",
    "y_train = titanic_train['Survived']\n",
    "\n",
    "dt_rand = ensemble.RandomForestClassifier(n_estimators=5)\n",
    "dt_rand.fit(x_train,y_train)"
   ]
  },
  {
   "cell_type": "code",
   "execution_count": 12,
   "metadata": {},
   "outputs": [
    {
     "data": {
      "text/plain": [
       "(418, 19)"
      ]
     },
     "execution_count": 12,
     "metadata": {},
     "output_type": "execute_result"
    }
   ],
   "source": [
    "features = pd.DataFrame({'feature':x_train.columns, 'importance': dt_rand.feature_importances_ })\n",
    "features.sort_values(by=['importance'],ascending=True, inplace=True)\n",
    "#features.set_index('feature', inplace=True)\n",
    "features.plot(kind='barh',figsize=(30,30))\n",
    "x_train.shape\n",
    "fs = feature_selection.SelectFromModel(dt_rand, threshold='median', prefit=True)\n",
    "x_train1 = fs.transform(x_train)\n",
    "x_train1.shape\n",
    "\n",
    "x_test = titanic2[titanic_train.shape[0]:]\n",
    "x_test1 = fs.transform(x_test)\n",
    "x_test1.shape"
   ]
  },
  {
   "cell_type": "code",
   "execution_count": 14,
   "metadata": {},
   "outputs": [],
   "source": [
    "#rf1 = ensemble.RandomForestClassifier(random_state=100)\n",
    "#ada2 = ensemble.AdaBoostClassifier(random_state=100)\n",
    "\n",
    "#super_dt = tree.DecisionTreeClassifier(random_state=100)\n",
    "\n",
    "#stack_estimator = mlxClassifier.StackingClassifier(classifiers=[rf1,ada2], meta_classifier=super_dt)\n",
    "\n",
    "#stack_grid = {'randomforestclassifier__n_estimator': [5,10],\n",
    "#              'adaboostclassifier__n_estimator': [10,50],\n",
    "#              'meta-decisiontreeclassifier__min_samples_split': [2,3]}\n",
    "\n",
    "#grid_stack_estimator = model_selection.GridSearchCV(stack_estimator,stack_grid,cv=10 )\n",
    "rf1 = ensemble.RandomForestClassifier(random_state=100)\n",
    "ada2 = ensemble.AdaBoostClassifier(random_state=100)\n",
    "\n",
    "dtSuper = tree.DecisionTreeClassifier(random_state=100)\n",
    "\n",
    "stack_estimator = mlxClassifier.StackingClassifier(classifiers=[rf1, ada2], meta_classifier=dtSuper) #, store_train_meta_features=True)\n",
    "stack_grid = {'randomforestclassifier__n_estimators': [5, 10],\n",
    "            'adaboostclassifier__n_estimators': [10, 50],\n",
    "            'meta_classifier__min_samples_split': [2, 3]}\n",
    "\n",
    "grid_stack_estimator = model_selection.GridSearchCV(stack_estimator, stack_grid, cv=10)\n",
    "\n",
    "#Random_estimator = ensemble.RandomForestClassifier(random_state=100, oob_score=True)\n",
    "#random_grid = {'n_estimators': list(range(10,21,10))}"
   ]
  },
  {
   "cell_type": "code",
   "execution_count": 15,
   "metadata": {},
   "outputs": [
    {
     "data": {
      "text/plain": [
       "GridSearchCV(cv=10, error_score='raise-deprecating',\n",
       "       estimator=StackingClassifier(average_probas=False,\n",
       "          classifiers=[RandomForestClassifier(bootstrap=True, class_weight=None, criterion='gini',\n",
       "            max_depth=None, max_features='auto', max_leaf_nodes=None,\n",
       "            min_impurity_decrease=0.0, min_impurity_split=None,\n",
       "            min_...ures=False, use_clones=True,\n",
       "          use_features_in_secondary=False, use_probas=False, verbose=0),\n",
       "       fit_params=None, iid='warn', n_jobs=None,\n",
       "       param_grid={'randomforestclassifier__n_estimators': [5, 10], 'adaboostclassifier__n_estimators': [10, 50], 'meta_classifier__min_samples_split': [2, 3]},\n",
       "       pre_dispatch='2*n_jobs', refit=True, return_train_score='warn',\n",
       "       scoring=None, verbose=0)"
      ]
     },
     "execution_count": 15,
     "metadata": {},
     "output_type": "execute_result"
    }
   ],
   "source": [
    "grid_stack_estimator.fit(x_train1, y_train)"
   ]
  },
  {
   "cell_type": "code",
   "execution_count": 18,
   "metadata": {},
   "outputs": [
    {
     "data": {
      "text/plain": [
       "StackingClassifier(average_probas=False,\n",
       "          classifiers=[RandomForestClassifier(bootstrap=True, class_weight=None, criterion='gini',\n",
       "            max_depth=None, max_features='auto', max_leaf_nodes=None,\n",
       "            min_impurity_decrease=0.0, min_impurity_split=None,\n",
       "            min_samples_leaf=1, min_samples_split=2,\n",
       "            min_weight_f...thm='SAMME.R', base_estimator=None,\n",
       "          learning_rate=1.0, n_estimators=10, random_state=100)],\n",
       "          drop_last_proba=False,\n",
       "          meta_classifier=DecisionTreeClassifier(class_weight=None, criterion='gini', max_depth=None,\n",
       "            max_features=None, max_leaf_nodes=None,\n",
       "            min_impurity_decrease=0.0, min_impurity_split=None,\n",
       "            min_samples_leaf=1, min_samples_split=2,\n",
       "            min_weight_fraction_leaf=0.0, presort=False, random_state=100,\n",
       "            splitter='best'),\n",
       "          store_train_meta_features=False, use_clones=True,\n",
       "          use_features_in_secondary=False, use_probas=False, verbose=0)"
      ]
     },
     "execution_count": 18,
     "metadata": {},
     "output_type": "execute_result"
    }
   ],
   "source": [
    "grid_stack_estimator.best_estimator_"
   ]
  },
  {
   "cell_type": "code",
   "execution_count": 19,
   "metadata": {},
   "outputs": [
    {
     "data": {
      "text/plain": [
       "0.8024691358024691"
      ]
     },
     "execution_count": 19,
     "metadata": {},
     "output_type": "execute_result"
    }
   ],
   "source": [
    "grid_stack_estimator.best_score_"
   ]
  },
  {
   "cell_type": "code",
   "execution_count": 20,
   "metadata": {},
   "outputs": [
    {
     "data": {
      "text/plain": [
       "0.9292929292929293"
      ]
     },
     "execution_count": 20,
     "metadata": {},
     "output_type": "execute_result"
    }
   ],
   "source": [
    "grid_stack_estimator.score(x_train1, y_train)"
   ]
  },
  {
   "cell_type": "code",
   "execution_count": 21,
   "metadata": {},
   "outputs": [],
   "source": [
    "titanic_test['Survived'] = grid_stack_estimator.predict(x_test1)"
   ]
  },
  {
   "cell_type": "code",
   "execution_count": 22,
   "metadata": {},
   "outputs": [],
   "source": [
    "os.chdir('/Users/bharath/Downloads/titanic')"
   ]
  },
  {
   "cell_type": "code",
   "execution_count": 23,
   "metadata": {},
   "outputs": [],
   "source": [
    "titanic_test.to_csv('M12 with RF+FE+EDA+Stacking.csv', columns= ['PassengerId', 'Survived'], index=False)"
   ]
  }
 ],
 "metadata": {
  "kernelspec": {
   "display_name": "Python 3",
   "language": "python",
   "name": "python3"
  },
  "language_info": {
   "codemirror_mode": {
    "name": "ipython",
    "version": 3
   },
   "file_extension": ".py",
   "mimetype": "text/x-python",
   "name": "python",
   "nbconvert_exporter": "python",
   "pygments_lexer": "ipython3",
   "version": "3.7.3"
  }
 },
 "nbformat": 4,
 "nbformat_minor": 2
}
