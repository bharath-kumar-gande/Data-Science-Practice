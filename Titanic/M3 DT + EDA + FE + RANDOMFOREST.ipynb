{
 "cells": [
  {
   "cell_type": "code",
   "execution_count": 1,
   "metadata": {},
   "outputs": [
    {
     "name": "stdout",
     "output_type": "stream",
     "text": [
      "<class 'pandas.core.frame.DataFrame'>\n",
      "RangeIndex: 891 entries, 0 to 890\n",
      "Data columns (total 12 columns):\n",
      "PassengerId    891 non-null int64\n",
      "Survived       891 non-null int64\n",
      "Pclass         891 non-null int64\n",
      "Name           891 non-null object\n",
      "Sex            891 non-null object\n",
      "Age            714 non-null float64\n",
      "SibSp          891 non-null int64\n",
      "Parch          891 non-null int64\n",
      "Ticket         891 non-null object\n",
      "Fare           891 non-null float64\n",
      "Cabin          204 non-null object\n",
      "Embarked       889 non-null object\n",
      "dtypes: float64(2), int64(5), object(5)\n",
      "memory usage: 83.6+ KB\n",
      "<class 'pandas.core.frame.DataFrame'>\n",
      "RangeIndex: 418 entries, 0 to 417\n",
      "Data columns (total 11 columns):\n",
      "PassengerId    418 non-null int64\n",
      "Pclass         418 non-null int64\n",
      "Name           418 non-null object\n",
      "Sex            418 non-null object\n",
      "Age            332 non-null float64\n",
      "SibSp          418 non-null int64\n",
      "Parch          418 non-null int64\n",
      "Ticket         418 non-null object\n",
      "Fare           417 non-null float64\n",
      "Cabin          91 non-null object\n",
      "Embarked       418 non-null object\n",
      "dtypes: float64(2), int64(4), object(5)\n",
      "memory usage: 36.0+ KB\n"
     ]
    },
    {
     "name": "stderr",
     "output_type": "stream",
     "text": [
      "/anaconda3/lib/python3.7/site-packages/sklearn/utils/deprecation.py:58: DeprecationWarning: Class Imputer is deprecated; Imputer was deprecated in version 0.20 and will be removed in 0.22. Import impute.SimpleImputer from sklearn instead.\n",
      "  warnings.warn(msg, category=DeprecationWarning)\n",
      "/anaconda3/lib/python3.7/site-packages/ipykernel_launcher.py:12: FutureWarning: Sorting because non-concatenation axis is not aligned. A future version\n",
      "of pandas will change to not sort by default.\n",
      "\n",
      "To accept the future behavior, pass 'sort=False'.\n",
      "\n",
      "To retain the current behavior and silence the warning, pass 'sort=True'.\n",
      "\n",
      "  if sys.path[0] == '':\n"
     ]
    }
   ],
   "source": [
    "import pandas as pd\n",
    "from sklearn import tree, preprocessing, model_selection, ensemble\n",
    "import os\n",
    "titanic_train = pd.read_csv('/Users/bharath/Downloads/titanic/train.csv')\n",
    "titanic_train.info()\n",
    "titanic_test = pd.read_csv('/Users/bharath/Downloads/titanic/test.csv')\n",
    "titanic_test.info()\n",
    "\n",
    "mean_imputer = preprocessing.Imputer()\n",
    "mean_imputer.fit(titanic_train[['Age','Fare']])\n",
    "titanic_test['Survived'] = None\n",
    "titanic = pd.concat([titanic_train, titanic_test])\n",
    "\n",
    "titanic[['Age','Fare']] = mean_imputer.transform(titanic[['Age','Fare']])\n"
   ]
  },
  {
   "cell_type": "raw",
   "metadata": {},
   "source": [
    "def split_title(name):\n",
    "    return name.split(',')[1].split('.')[0].strip()\n",
    "\n",
    "titanic['Title'] = titanic['Name'].map(split_title)\n"
   ]
  },
  {
   "cell_type": "raw",
   "metadata": {},
   "source": [
    "def Age_group(age):\n",
    "    if (age >=0 and age <=10):\n",
    "        return 'Child'\n",
    "    elif (age >10 and age <= 25):\n",
    "          return 'Young'\n",
    "    elif (age >25 and age <= 50):\n",
    "          return 'Middle'\n",
    "    else:\n",
    "        return 'Old'    "
   ]
  },
  {
   "cell_type": "raw",
   "metadata": {},
   "source": [
    "titanic['Age1'] = titanic['Age'].map(Age_group)"
   ]
  },
  {
   "cell_type": "raw",
   "metadata": {},
   "source": [
    "titanic['FamilySize'] = titanic['Parch'] + titanic['SibSp'] + 1"
   ]
  },
  {
   "cell_type": "raw",
   "metadata": {},
   "source": [
    "def family_size(size):\n",
    "    if (size ==1):\n",
    "        return 'Single'\n",
    "    elif (size >1 and size <= 3):\n",
    "          return 'Small'\n",
    "    elif (size >3 and size <=6):\n",
    "          return 'Medium'\n",
    "    else:\n",
    "        return 'large'"
   ]
  },
  {
   "cell_type": "raw",
   "metadata": {},
   "source": [
    "    titanic['Family_type'] = titanic['FamilySize'].map(family_size)"
   ]
  },
  {
   "cell_type": "raw",
   "metadata": {},
   "source": [
    "titanic.info()"
   ]
  },
  {
   "cell_type": "raw",
   "metadata": {},
   "source": [
    "titanic1 = pd.get_dummies(titanic, columns=['Pclass','Sex','Embarked','Age1','Family_type','Title'])"
   ]
  },
  {
   "cell_type": "raw",
   "metadata": {},
   "source": [
    "titanic1.info()"
   ]
  },
  {
   "cell_type": "raw",
   "metadata": {},
   "source": [
    "titanic2 = titanic1.drop(['Age','Cabin','Name','PassengerId','Ticket','Survived'],1) \n",
    "# why 'Parch','SibSp' are not dropped ?\n",
    "x_train = titanic2[0:titanic_train.shape[0]]\n",
    "y_train = titanic_train['Survived']\n",
    "\n",
    "#dt = tree.DecisionTreeClassifier(random_state=10)\n",
    "\n",
    "#dt_bag = ensemble.BaggingClassifier(base_estimator=dt,random_state=10, )\n",
    "#dt_grid = {'n_estimators':[5,15,30], 'base_estimator__max_depth':[3,4,5]}\n",
    "dt_rand = ensemble.RandomForestClassifier(random_state=20)\n",
    "dt_rand_grid = {'n_estimators':[10,20,30],'criterion':['gini','entropy'],'max_depth': [2,4,6],'min_samples_split':[2,5,8] }\n"
   ]
  },
  {
   "cell_type": "raw",
   "metadata": {},
   "source": [
    "param_grid = model_selection.GridSearchCV(dt_rand, dt_rand_grid, cv=5, n_jobs=5)"
   ]
  },
  {
   "cell_type": "raw",
   "metadata": {},
   "source": [
    "param_grid.fit(x_train,y_train)"
   ]
  },
  {
   "cell_type": "raw",
   "metadata": {},
   "source": [
    "param_grid.best_estimator_\n"
   ]
  },
  {
   "cell_type": "raw",
   "metadata": {},
   "source": [
    "param_grid.best_score_"
   ]
  },
  {
   "cell_type": "raw",
   "metadata": {},
   "source": [
    "param_grid.score(x_train,y_train)"
   ]
  },
  {
   "cell_type": "raw",
   "metadata": {},
   "source": []
  },
  {
   "cell_type": "raw",
   "metadata": {},
   "source": [
    "x_test = titanic2[titanic_train.shape[0]:]"
   ]
  },
  {
   "cell_type": "raw",
   "metadata": {},
   "source": [
    "titanic_test['Survived'] = param_grid.predict(x_test)"
   ]
  },
  {
   "cell_type": "raw",
   "metadata": {},
   "source": [
    "os.chdir('/Users/bharath/Downloads/titanic')"
   ]
  },
  {
   "cell_type": "raw",
   "metadata": {},
   "source": [
    "titanic_test.to_csv('M3 with Random Forest.csv', columns= ['PassengerId', 'Survived'], index=False)"
   ]
  },
  {
   "cell_type": "code",
   "execution_count": null,
   "metadata": {},
   "outputs": [],
   "source": [
    "os.curdir"
   ]
  },
  {
   "cell_type": "code",
   "execution_count": null,
   "metadata": {},
   "outputs": [],
   "source": []
  }
 ],
 "metadata": {
  "kernelspec": {
   "display_name": "Python 3",
   "language": "python",
   "name": "python3"
  },
  "language_info": {
   "codemirror_mode": {
    "name": "ipython",
    "version": 3
   },
   "file_extension": ".py",
   "mimetype": "text/x-python",
   "name": "python",
   "nbconvert_exporter": "python",
   "pygments_lexer": "ipython3",
   "version": "3.7.3"
  }
 },
 "nbformat": 4,
 "nbformat_minor": 2
}
